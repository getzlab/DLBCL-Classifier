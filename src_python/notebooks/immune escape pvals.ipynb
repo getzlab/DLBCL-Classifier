{
 "cells": [
  {
   "cell_type": "code",
   "execution_count": 1,
   "id": "2caff2f1",
   "metadata": {},
   "outputs": [],
   "source": [
    "import pandas as pd\n",
    "import numpy as np\n",
    "from matplotlib import pyplot as plt\n",
    "import scipy.stats as ss"
   ]
  },
  {
   "cell_type": "code",
   "execution_count": 2,
   "id": "b79fd688",
   "metadata": {},
   "outputs": [
    {
     "data": {
      "text/html": [
       "<div>\n",
       "<style scoped>\n",
       "    .dataframe tbody tr th:only-of-type {\n",
       "        vertical-align: middle;\n",
       "    }\n",
       "\n",
       "    .dataframe tbody tr th {\n",
       "        vertical-align: top;\n",
       "    }\n",
       "\n",
       "    .dataframe thead th {\n",
       "        text-align: right;\n",
       "    }\n",
       "</style>\n",
       "<table border=\"1\" class=\"dataframe\">\n",
       "  <thead>\n",
       "    <tr style=\"text-align: right;\">\n",
       "      <th></th>\n",
       "      <th>DLBCL11470</th>\n",
       "      <th>DLBCL10900</th>\n",
       "      <th>DLBC_FF_A7CQ_TP_NB</th>\n",
       "      <th>DLBCL10462</th>\n",
       "      <th>DLBCL_RICOVER_1081</th>\n",
       "      <th>DLBCL_LS1098</th>\n",
       "      <th>DLBCL_RICOVER_299</th>\n",
       "      <th>DLBCL11558</th>\n",
       "      <th>DLBCL_C_D_1105_NULLPAIR</th>\n",
       "      <th>DLBCL11447</th>\n",
       "      <th>...</th>\n",
       "      <th>DLBCL11455</th>\n",
       "      <th>DLBCL_RICOVER_685</th>\n",
       "      <th>DLBCL_LS146</th>\n",
       "      <th>DLBCL_RICOVER_111</th>\n",
       "      <th>DLBCL_RICOVER_173</th>\n",
       "      <th>DLBCL11515</th>\n",
       "      <th>DLBCL10491</th>\n",
       "      <th>DLBCL_RICOVER_1046</th>\n",
       "      <th>DLBCL10547</th>\n",
       "      <th>DLBCL10998</th>\n",
       "    </tr>\n",
       "    <tr>\n",
       "      <th>classifier_name</th>\n",
       "      <th></th>\n",
       "      <th></th>\n",
       "      <th></th>\n",
       "      <th></th>\n",
       "      <th></th>\n",
       "      <th></th>\n",
       "      <th></th>\n",
       "      <th></th>\n",
       "      <th></th>\n",
       "      <th></th>\n",
       "      <th></th>\n",
       "      <th></th>\n",
       "      <th></th>\n",
       "      <th></th>\n",
       "      <th></th>\n",
       "      <th></th>\n",
       "      <th></th>\n",
       "      <th></th>\n",
       "      <th></th>\n",
       "      <th></th>\n",
       "      <th></th>\n",
       "    </tr>\n",
       "  </thead>\n",
       "  <tbody>\n",
       "    <tr>\n",
       "      <th>SV.BCL6</th>\n",
       "      <td>3</td>\n",
       "      <td>0</td>\n",
       "      <td>0</td>\n",
       "      <td>3</td>\n",
       "      <td>0</td>\n",
       "      <td>0</td>\n",
       "      <td>0</td>\n",
       "      <td>0</td>\n",
       "      <td>0</td>\n",
       "      <td>0</td>\n",
       "      <td>...</td>\n",
       "      <td>0</td>\n",
       "      <td>0</td>\n",
       "      <td>0</td>\n",
       "      <td>0</td>\n",
       "      <td>0</td>\n",
       "      <td>0</td>\n",
       "      <td>0</td>\n",
       "      <td>0</td>\n",
       "      <td>0</td>\n",
       "      <td>0</td>\n",
       "    </tr>\n",
       "    <tr>\n",
       "      <th>DTX1</th>\n",
       "      <td>2</td>\n",
       "      <td>1</td>\n",
       "      <td>0</td>\n",
       "      <td>0</td>\n",
       "      <td>0</td>\n",
       "      <td>0</td>\n",
       "      <td>0</td>\n",
       "      <td>0</td>\n",
       "      <td>2</td>\n",
       "      <td>0</td>\n",
       "      <td>...</td>\n",
       "      <td>1</td>\n",
       "      <td>0</td>\n",
       "      <td>0</td>\n",
       "      <td>0</td>\n",
       "      <td>0</td>\n",
       "      <td>0</td>\n",
       "      <td>0</td>\n",
       "      <td>0</td>\n",
       "      <td>0</td>\n",
       "      <td>0</td>\n",
       "    </tr>\n",
       "    <tr>\n",
       "      <th>CD70</th>\n",
       "      <td>2</td>\n",
       "      <td>0</td>\n",
       "      <td>0</td>\n",
       "      <td>0</td>\n",
       "      <td>2</td>\n",
       "      <td>0</td>\n",
       "      <td>0</td>\n",
       "      <td>0</td>\n",
       "      <td>0</td>\n",
       "      <td>0</td>\n",
       "      <td>...</td>\n",
       "      <td>0</td>\n",
       "      <td>0</td>\n",
       "      <td>0</td>\n",
       "      <td>0</td>\n",
       "      <td>0</td>\n",
       "      <td>0</td>\n",
       "      <td>0</td>\n",
       "      <td>0</td>\n",
       "      <td>0</td>\n",
       "      <td>0</td>\n",
       "    </tr>\n",
       "    <tr>\n",
       "      <th>TNFAIP3</th>\n",
       "      <td>2</td>\n",
       "      <td>0</td>\n",
       "      <td>0</td>\n",
       "      <td>2</td>\n",
       "      <td>0</td>\n",
       "      <td>0</td>\n",
       "      <td>0</td>\n",
       "      <td>0</td>\n",
       "      <td>0</td>\n",
       "      <td>0</td>\n",
       "      <td>...</td>\n",
       "      <td>0</td>\n",
       "      <td>0</td>\n",
       "      <td>0</td>\n",
       "      <td>0</td>\n",
       "      <td>0</td>\n",
       "      <td>0</td>\n",
       "      <td>0</td>\n",
       "      <td>0</td>\n",
       "      <td>2</td>\n",
       "      <td>2</td>\n",
       "    </tr>\n",
       "    <tr>\n",
       "      <th>NOTCH2</th>\n",
       "      <td>0</td>\n",
       "      <td>0</td>\n",
       "      <td>0</td>\n",
       "      <td>2</td>\n",
       "      <td>0</td>\n",
       "      <td>0</td>\n",
       "      <td>0</td>\n",
       "      <td>0</td>\n",
       "      <td>2</td>\n",
       "      <td>0</td>\n",
       "      <td>...</td>\n",
       "      <td>0</td>\n",
       "      <td>0</td>\n",
       "      <td>2</td>\n",
       "      <td>0</td>\n",
       "      <td>0</td>\n",
       "      <td>0</td>\n",
       "      <td>0</td>\n",
       "      <td>0</td>\n",
       "      <td>0</td>\n",
       "      <td>2</td>\n",
       "    </tr>\n",
       "  </tbody>\n",
       "</table>\n",
       "<p>5 rows × 699 columns</p>\n",
       "</div>"
      ],
      "text/plain": [
       "                 DLBCL11470  DLBCL10900  DLBC_FF_A7CQ_TP_NB  DLBCL10462  \\\n",
       "classifier_name                                                           \n",
       "SV.BCL6                   3           0                   0           3   \n",
       "DTX1                      2           1                   0           0   \n",
       "CD70                      2           0                   0           0   \n",
       "TNFAIP3                   2           0                   0           2   \n",
       "NOTCH2                    0           0                   0           2   \n",
       "\n",
       "                 DLBCL_RICOVER_1081  DLBCL_LS1098  DLBCL_RICOVER_299  \\\n",
       "classifier_name                                                        \n",
       "SV.BCL6                           0             0                  0   \n",
       "DTX1                              0             0                  0   \n",
       "CD70                              2             0                  0   \n",
       "TNFAIP3                           0             0                  0   \n",
       "NOTCH2                            0             0                  0   \n",
       "\n",
       "                 DLBCL11558  DLBCL_C_D_1105_NULLPAIR  DLBCL11447  ...  \\\n",
       "classifier_name                                                   ...   \n",
       "SV.BCL6                   0                        0           0  ...   \n",
       "DTX1                      0                        2           0  ...   \n",
       "CD70                      0                        0           0  ...   \n",
       "TNFAIP3                   0                        0           0  ...   \n",
       "NOTCH2                    0                        2           0  ...   \n",
       "\n",
       "                 DLBCL11455  DLBCL_RICOVER_685  DLBCL_LS146  \\\n",
       "classifier_name                                               \n",
       "SV.BCL6                   0                  0            0   \n",
       "DTX1                      1                  0            0   \n",
       "CD70                      0                  0            0   \n",
       "TNFAIP3                   0                  0            0   \n",
       "NOTCH2                    0                  0            2   \n",
       "\n",
       "                 DLBCL_RICOVER_111  DLBCL_RICOVER_173  DLBCL11515  DLBCL10491  \\\n",
       "classifier_name                                                                 \n",
       "SV.BCL6                          0                  0           0           0   \n",
       "DTX1                             0                  0           0           0   \n",
       "CD70                             0                  0           0           0   \n",
       "TNFAIP3                          0                  0           0           0   \n",
       "NOTCH2                           0                  0           0           0   \n",
       "\n",
       "                 DLBCL_RICOVER_1046  DLBCL10547  DLBCL10998  \n",
       "classifier_name                                              \n",
       "SV.BCL6                           0           0           0  \n",
       "DTX1                              0           0           0  \n",
       "CD70                              0           0           0  \n",
       "TNFAIP3                           0           2           2  \n",
       "NOTCH2                            0           0           2  \n",
       "\n",
       "[5 rows x 699 columns]"
      ]
     },
     "execution_count": 2,
     "metadata": {},
     "output_type": "execute_result"
    }
   ],
   "source": [
    "gsm = pd.read_csv('../../data_tables/gsm/DLBCL.699.163drivers.Sep_23_2022.tsv', \n",
    "                  sep='\\t', index_col=1).drop('gene', axis=1)\n",
    "gsm.head()\n"
   ]
  },
  {
   "cell_type": "code",
   "execution_count": 3,
   "id": "e766e33b",
   "metadata": {},
   "outputs": [
    {
     "name": "stdout",
     "output_type": "stream",
     "text": [
      "X9P24.1.AMP\n"
     ]
    }
   ],
   "source": [
    "for c in gsm.index:\n",
    "    if 'X9P24' in c:\n",
    "        print(c)"
   ]
  },
  {
   "cell_type": "code",
   "execution_count": 4,
   "id": "c84d8763",
   "metadata": {},
   "outputs": [
    {
     "name": "stdout",
     "output_type": "stream",
     "text": [
      "CD70 vs 19P13.3.DEL\n",
      "p=0.03612368079882529\n"
     ]
    },
    {
     "data": {
      "text/plain": [
       "matrix([[  6,  60],\n",
       "        [116, 515]])"
      ]
     },
     "execution_count": 4,
     "metadata": {},
     "output_type": "execute_result"
    }
   ],
   "source": [
    "# CD70 vs 19P13.3 mutual\n",
    "m_cd70 = np.matrix([[0,0], [0,0]])\n",
    "\n",
    "m_cd70[0, 0] = ((gsm.loc['CD70'] == 2) & (gsm.loc['X19P13.3.DEL'] != 0)).sum()\n",
    "m_cd70[0, 1] = ((gsm.loc['CD70'] == 2) & (gsm.loc['X19P13.3.DEL'] == 0)).sum()\n",
    "m_cd70[1, 0] = ((gsm.loc['CD70'] == 0) & (gsm.loc['X19P13.3.DEL'] != 0)).sum()\n",
    "m_cd70[1, 1] = ((gsm.loc['CD70'] == 0) & (gsm.loc['X19P13.3.DEL'] == 0)).sum()\n",
    "\n",
    "print('CD70 vs 19P13.3.DEL\\np=' + str(ss.fisher_exact(m_cd70, alternative='less')[1]))\n",
    "m_cd70"
   ]
  },
  {
   "cell_type": "code",
   "execution_count": 6,
   "id": "2348cae4",
   "metadata": {},
   "outputs": [
    {
     "name": "stdout",
     "output_type": "stream",
     "text": [
      "B2M vs 15Q15.3.DEL\n",
      "p=0.002069633506829779\n"
     ]
    },
    {
     "data": {
      "text/plain": [
       "matrix([[ 33,  51],\n",
       "        [145, 470]])"
      ]
     },
     "execution_count": 6,
     "metadata": {},
     "output_type": "execute_result"
    }
   ],
   "source": [
    "# B2M vs 15Q15.3\n",
    "m_b2m = np.matrix([[0,0], [0,0]])\n",
    "\n",
    "m_b2m[0, 0] = ((gsm.loc['B2M'] == 2) & (gsm.loc['X15Q15.3.DEL'] != 0)).sum()\n",
    "m_b2m[0, 1] = ((gsm.loc['B2M'] == 2) & (gsm.loc['X15Q15.3.DEL'] == 0)).sum()\n",
    "m_b2m[1, 0] = ((gsm.loc['B2M'] == 0) & (gsm.loc['X15Q15.3.DEL'] != 0)).sum()\n",
    "m_b2m[1, 1] = ((gsm.loc['B2M'] == 0) & (gsm.loc['X15Q15.3.DEL'] == 0)).sum()\n",
    "\n",
    "print('B2M vs 15Q15.3.DEL\\np=' + str(ss.fisher_exact(m_b2m, alternative='greater')[1]))\n",
    "m_b2m"
   ]
  },
  {
   "cell_type": "code",
   "execution_count": 7,
   "id": "b07d7337",
   "metadata": {},
   "outputs": [
    {
     "name": "stdout",
     "output_type": "stream",
     "text": [
      "HLA (union) vs 6Q21.DEL\n",
      "p=0.2640690302688461\n"
     ]
    },
    {
     "data": {
      "text/plain": [
       "matrix([[ 17, 113],\n",
       "        [ 61, 508]])"
      ]
     },
     "execution_count": 7,
     "metadata": {},
     "output_type": "execute_result"
    }
   ],
   "source": [
    "# HLA (union) vs 6Q21\n",
    "m_hla = np.matrix([[0,0], [0,0]])\n",
    "hla_condition = (gsm.loc['HLA.A'] == 2) | (gsm.loc['HLA.B'] == 2) | (gsm.loc['HLA.C'] == 2)\n",
    "\n",
    "m_hla[0, 0] = (hla_condition & (gsm.loc['X6Q21.DEL'] != 0)).sum()\n",
    "m_hla[0, 1] = (hla_condition & (gsm.loc['X6Q21.DEL'] == 0)).sum()\n",
    "m_hla[1, 0] = (~hla_condition & (gsm.loc['X6Q21.DEL'] != 0)).sum()\n",
    "m_hla[1, 1] = (~hla_condition & (gsm.loc['X6Q21.DEL'] == 0)).sum()\n",
    "\n",
    "print('HLA (union) vs 6Q21.DEL\\np=' + str(ss.fisher_exact(m_hla, alternative='greater')[1]))\n",
    "m_hla"
   ]
  },
  {
   "cell_type": "code",
   "execution_count": 8,
   "id": "39d59253",
   "metadata": {},
   "outputs": [
    {
     "name": "stdout",
     "output_type": "stream",
     "text": [
      "CD58 vs 1P31.1.DEL\n",
      "p=0.4942726073545326\n"
     ]
    },
    {
     "data": {
      "text/plain": [
       "matrix([[  9,  48],\n",
       "        [ 96, 546]])"
      ]
     },
     "execution_count": 8,
     "metadata": {},
     "output_type": "execute_result"
    }
   ],
   "source": [
    "# CD58 vs 1P31.1\n",
    "m_cd58 = np.matrix([[0,0], [0,0]])\n",
    "\n",
    "m_cd58[0, 0] = ((gsm.loc['CD58'] == 2) & (gsm.loc['X1P31.1.DEL'] != 0)).sum()\n",
    "m_cd58[0, 1] = ((gsm.loc['CD58'] == 2) & (gsm.loc['X1P31.1.DEL'] == 0)).sum()\n",
    "m_cd58[1, 0] = ((gsm.loc['CD58'] == 0) & (gsm.loc['X1P31.1.DEL'] != 0)).sum()\n",
    "m_cd58[1, 1] = ((gsm.loc['CD58'] == 0) & (gsm.loc['X1P31.1.DEL'] == 0)).sum()\n",
    "\n",
    "print('CD58 vs 1P31.1.DEL\\np=' + str(ss.fisher_exact(m_cd58, alternative='greater')[1]))\n",
    "m_cd58"
   ]
  },
  {
   "cell_type": "code",
   "execution_count": 9,
   "id": "02987f8d",
   "metadata": {},
   "outputs": [
    {
     "name": "stdout",
     "output_type": "stream",
     "text": [
      "FAS vs 10Q23.31.DEL\n",
      "p=0.5181171159393316\n"
     ]
    },
    {
     "data": {
      "text/plain": [
       "matrix([[  8,  57],\n",
       "        [ 75, 559]])"
      ]
     },
     "execution_count": 9,
     "metadata": {},
     "output_type": "execute_result"
    }
   ],
   "source": [
    "# FAS vs 10Q23.31\n",
    "m_fas = np.matrix([[0,0], [0,0]])\n",
    "\n",
    "m_fas[0, 0] = ((gsm.loc['FAS'] == 2) & (gsm.loc['X10Q23.31.DEL'] != 0)).sum()\n",
    "m_fas[0, 1] = ((gsm.loc['FAS'] == 2) & (gsm.loc['X10Q23.31.DEL'] == 0)).sum()\n",
    "m_fas[1, 0] = ((gsm.loc['FAS'] == 0) & (gsm.loc['X10Q23.31.DEL'] != 0)).sum()\n",
    "m_fas[1, 1] = ((gsm.loc['FAS'] == 0) & (gsm.loc['X10Q23.31.DEL'] == 0)).sum()\n",
    "\n",
    "print('FAS vs 10Q23.31.DEL\\np=' + str(ss.fisher_exact(m_fas, alternative='greater')[1]))\n",
    "m_fas"
   ]
  },
  {
   "cell_type": "code",
   "execution_count": 10,
   "id": "73ffa6c3",
   "metadata": {},
   "outputs": [
    {
     "name": "stdout",
     "output_type": "stream",
     "text": [
      "FAS vs 9P24.1.AMP\n",
      "p=0.7900351076487336\n"
     ]
    },
    {
     "data": {
      "text/plain": [
       "matrix([[  2,  16],\n",
       "        [105, 576]])"
      ]
     },
     "execution_count": 10,
     "metadata": {},
     "output_type": "execute_result"
    }
   ],
   "source": [
    "# CD274 vs 9P24.1\n",
    "m_cd274 = np.matrix([[0,0], [0,0]])\n",
    "\n",
    "m_cd274[0, 0] = ((gsm.loc['CD274'] == 2) & (gsm.loc['X9P24.1.AMP'] != 0)).sum()\n",
    "m_cd274[0, 1] = ((gsm.loc['CD274'] == 2) & (gsm.loc['X9P24.1.AMP'] == 0)).sum()\n",
    "m_cd274[1, 0] = ((gsm.loc['CD274'] == 0) & (gsm.loc['X9P24.1.AMP'] != 0)).sum()\n",
    "m_cd274[1, 1] = ((gsm.loc['CD274'] == 0) & (gsm.loc['X9P24.1.AMP'] == 0)).sum()\n",
    "\n",
    "print('FAS vs 9P24.1.AMP\\np=' + str(ss.fisher_exact(m_cd274, alternative='greater')[1]))\n",
    "m_cd274"
   ]
  }
 ],
 "metadata": {
  "kernelspec": {
   "display_name": "Python 3 (ipykernel)",
   "language": "python",
   "name": "python3"
  },
  "language_info": {
   "codemirror_mode": {
    "name": "ipython",
    "version": 3
   },
   "file_extension": ".py",
   "mimetype": "text/x-python",
   "name": "python",
   "nbconvert_exporter": "python",
   "pygments_lexer": "ipython3",
   "version": "3.7.8"
  }
 },
 "nbformat": 4,
 "nbformat_minor": 5
}
