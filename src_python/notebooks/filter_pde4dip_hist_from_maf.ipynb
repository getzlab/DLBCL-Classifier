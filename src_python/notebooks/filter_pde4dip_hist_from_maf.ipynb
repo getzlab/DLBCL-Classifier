{
 "cells": [
  {
   "cell_type": "code",
   "execution_count": 2,
   "id": "be4b2fde",
   "metadata": {},
   "outputs": [],
   "source": [
    "import pandas as pd"
   ]
  },
  {
   "cell_type": "code",
   "execution_count": 3,
   "id": "144c240e",
   "metadata": {},
   "outputs": [],
   "source": [
    "combined_maf = pd.read_csv('../../data_tables/maf_files/DLBCL_combined_699.hg38B.maf', \n",
    "                           sep='\\t', low_memory=False)"
   ]
  },
  {
   "cell_type": "code",
   "execution_count": 4,
   "id": "f13be146",
   "metadata": {},
   "outputs": [
    {
     "data": {
      "text/plain": [
       "(203053, 886)"
      ]
     },
     "execution_count": 4,
     "metadata": {},
     "output_type": "execute_result"
    }
   ],
   "source": [
    "combined_maf.shape"
   ]
  },
  {
   "cell_type": "code",
   "execution_count": 5,
   "id": "49b0eb3d",
   "metadata": {},
   "outputs": [
    {
     "data": {
      "text/plain": [
       "(202946, 886)"
      ]
     },
     "execution_count": 5,
     "metadata": {},
     "output_type": "execute_result"
    }
   ],
   "source": [
    "combined_maf = combined_maf.loc[(combined_maf['Hugo_Symbol'] != 'PDE4DIP') &\n",
    "                                (combined_maf['Hugo_Symbol'] != 'HIST1H2BK') &\n",
    "                                (combined_maf['Hugo_Symbol'] != 'HIST2H2BE')]\n",
    "combined_maf.shape"
   ]
  },
  {
   "cell_type": "code",
   "execution_count": 7,
   "id": "1115a609",
   "metadata": {},
   "outputs": [],
   "source": [
    "combined_maf.to_csv('../../data_tables/maf_files/DLBCL_combined_699.hg38B.noPDE4DIP.noHISTartifacts.maf',\n",
    "                   sep='\\t', index=False)"
   ]
  }
 ],
 "metadata": {
  "kernelspec": {
   "display_name": "Python 3 (ipykernel)",
   "language": "python",
   "name": "python3"
  },
  "language_info": {
   "codemirror_mode": {
    "name": "ipython",
    "version": 3
   },
   "file_extension": ".py",
   "mimetype": "text/x-python",
   "name": "python",
   "nbconvert_exporter": "python",
   "pygments_lexer": "ipython3",
   "version": "3.7.8"
  }
 },
 "nbformat": 4,
 "nbformat_minor": 5
}
