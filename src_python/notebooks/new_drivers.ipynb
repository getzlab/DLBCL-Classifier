{
 "cells": [
  {
   "cell_type": "code",
   "execution_count": 1,
   "id": "7724c2b6",
   "metadata": {},
   "outputs": [],
   "source": [
    "import pandas as pd"
   ]
  },
  {
   "cell_type": "code",
   "execution_count": 2,
   "id": "47ea7452",
   "metadata": {},
   "outputs": [],
   "source": [
    "qval_df = pd.read_csv('../../data_tables/qval_dfs/fisher_exact_5x2.Sep_23_2022.combined.tsv', sep='\\t', index_col=0)"
   ]
  },
  {
   "cell_type": "code",
   "execution_count": 3,
   "id": "6de11b58",
   "metadata": {},
   "outputs": [],
   "source": [
    "c1_drivers = qval_df.loc[(qval_df['cluster'] == 'C1') & (qval_df['q'] <= 0.10)].index\n",
    "c2_drivers = qval_df.loc[(qval_df['cluster'] == 'C2') & (qval_df['q'] <= 0.10)].index\n",
    "c3_drivers = qval_df.loc[(qval_df['cluster'] == 'C3') & (qval_df['q'] <= 0.10)].index\n",
    "c4_drivers = qval_df.loc[(qval_df['cluster'] == 'C4') & (qval_df['q'] <= 0.10)].index\n",
    "c5_drivers = qval_df.loc[(qval_df['cluster'] == 'C5') & (qval_df['q'] <= 0.10)].index"
   ]
  },
  {
   "cell_type": "code",
   "execution_count": 12,
   "id": "2d232ae4",
   "metadata": {},
   "outputs": [],
   "source": [
    "nm_gsm = pd.read_csv('../../data_tables/NM_supp_cnmf/a) Gene sample matrix-Table 1.tsv', sep='\\t', index_col=0, skiprows=1)\n",
    "nm_gsm.index = nm_gsm.index.str.replace(':', '.').str.replace('-', '.').str.upper()\n",
    "nm_gsm.index = ['X' + x if '.AMP' in x or '.DEL' in x else x for x in nm_gsm.index]\n",
    "nm_gsm.index = [x if x != 'X18Q21.33(BCL2).AMP' else 'X18Q21.33.AMP' for x in nm_gsm.index]"
   ]
  },
  {
   "cell_type": "code",
   "execution_count": 22,
   "id": "64375650",
   "metadata": {},
   "outputs": [
    {
     "name": "stdout",
     "output_type": "stream",
     "text": [
      "X18P.AMP\n",
      "X18Q.AMP\n",
      "X18Q21.33.AMP\n",
      "X18Q23.DEL\n"
     ]
    }
   ],
   "source": [
    "for x in nm_gsm.index:\n",
    "    if '18' in x:\n",
    "        print(x)"
   ]
  },
  {
   "cell_type": "code",
   "execution_count": 40,
   "id": "8f2949ae",
   "metadata": {},
   "outputs": [],
   "source": [
    "# New genes\n",
    "new_c1 = set(c1_drivers) - set(nm_gsm.index)\n",
    "new_c2 = set(c2_drivers) - set(nm_gsm.index)\n",
    "new_c3 = set(c3_drivers) - set(nm_gsm.index)\n",
    "new_c4 = set(c4_drivers) - set(nm_gsm.index)\n",
    "new_c5 = set(c5_drivers) - set(nm_gsm.index)\n",
    "\n",
    "new_c1 = new_c1 - set(['MYD88.OTHER'])\n",
    "new_c2 = new_c2 - set(['X18Q21.32.AMP'])\n",
    "new_c5 = new_c5 - set(['MYD88.L265P'])"
   ]
  },
  {
   "cell_type": "code",
   "execution_count": 41,
   "id": "1938178c",
   "metadata": {},
   "outputs": [
    {
     "data": {
      "text/plain": [
       "{'BCL7A', 'CCDC27', 'CXCR4', 'FADD', 'SMG7', 'TNIP1', 'TUBGCP5'}"
      ]
     },
     "execution_count": 41,
     "metadata": {},
     "output_type": "execute_result"
    }
   ],
   "source": [
    "new_c1"
   ]
  },
  {
   "cell_type": "code",
   "execution_count": 42,
   "id": "a16f2b79",
   "metadata": {},
   "outputs": [
    {
     "data": {
      "text/plain": [
       "{'ZNF423'}"
      ]
     },
     "execution_count": 42,
     "metadata": {},
     "output_type": "execute_result"
    }
   ],
   "source": [
    "new_c2"
   ]
  },
  {
   "cell_type": "code",
   "execution_count": 43,
   "id": "127a4b67",
   "metadata": {},
   "outputs": [
    {
     "data": {
      "text/plain": [
       "{'MEF2C', 'SOCS1'}"
      ]
     },
     "execution_count": 43,
     "metadata": {},
     "output_type": "execute_result"
    }
   ],
   "source": [
    "new_c3"
   ]
  },
  {
   "cell_type": "code",
   "execution_count": 44,
   "id": "9c6434b4",
   "metadata": {},
   "outputs": [
    {
     "data": {
      "text/plain": [
       "{'CD274',\n",
       " 'CRIP1',\n",
       " 'DUSP2',\n",
       " 'KRAS',\n",
       " 'METAP1D',\n",
       " 'PABPC1',\n",
       " 'RAC2',\n",
       " 'SESN3',\n",
       " 'TET2',\n",
       " 'YY1'}"
      ]
     },
     "execution_count": 44,
     "metadata": {},
     "output_type": "execute_result"
    }
   ],
   "source": [
    "new_c4"
   ]
  },
  {
   "cell_type": "code",
   "execution_count": 45,
   "id": "e80920b4",
   "metadata": {},
   "outputs": [
    {
     "data": {
      "text/plain": [
       "{'ATP2A2', 'IRF2BP2', 'IRF4', 'OSBPL10', 'PIM2', 'X18Q22.2.AMP'}"
      ]
     },
     "execution_count": 45,
     "metadata": {},
     "output_type": "execute_result"
    }
   ],
   "source": [
    "new_c5"
   ]
  },
  {
   "cell_type": "code",
   "execution_count": 46,
   "id": "8d7e59b1",
   "metadata": {},
   "outputs": [
    {
     "data": {
      "text/html": [
       "<div>\n",
       "<style scoped>\n",
       "    .dataframe tbody tr th:only-of-type {\n",
       "        vertical-align: middle;\n",
       "    }\n",
       "\n",
       "    .dataframe tbody tr th {\n",
       "        vertical-align: top;\n",
       "    }\n",
       "\n",
       "    .dataframe thead th {\n",
       "        text-align: right;\n",
       "    }\n",
       "</style>\n",
       "<table border=\"1\" class=\"dataframe\">\n",
       "  <thead>\n",
       "    <tr style=\"text-align: right;\">\n",
       "      <th></th>\n",
       "      <th>0</th>\n",
       "      <th>1</th>\n",
       "      <th>2</th>\n",
       "      <th>3</th>\n",
       "      <th>4</th>\n",
       "      <th>5</th>\n",
       "      <th>6</th>\n",
       "      <th>7</th>\n",
       "      <th>8</th>\n",
       "      <th>9</th>\n",
       "    </tr>\n",
       "  </thead>\n",
       "  <tbody>\n",
       "    <tr>\n",
       "      <th>C1</th>\n",
       "      <td>FADD</td>\n",
       "      <td>SMG7</td>\n",
       "      <td>TUBGCP5</td>\n",
       "      <td>BCL7A</td>\n",
       "      <td>CCDC27</td>\n",
       "      <td>TNIP1</td>\n",
       "      <td>CXCR4</td>\n",
       "      <td>None</td>\n",
       "      <td>None</td>\n",
       "      <td>None</td>\n",
       "    </tr>\n",
       "    <tr>\n",
       "      <th>C2</th>\n",
       "      <td>ZNF423</td>\n",
       "      <td>None</td>\n",
       "      <td>None</td>\n",
       "      <td>None</td>\n",
       "      <td>None</td>\n",
       "      <td>None</td>\n",
       "      <td>None</td>\n",
       "      <td>None</td>\n",
       "      <td>None</td>\n",
       "      <td>None</td>\n",
       "    </tr>\n",
       "    <tr>\n",
       "      <th>C3</th>\n",
       "      <td>SOCS1</td>\n",
       "      <td>MEF2C</td>\n",
       "      <td>None</td>\n",
       "      <td>None</td>\n",
       "      <td>None</td>\n",
       "      <td>None</td>\n",
       "      <td>None</td>\n",
       "      <td>None</td>\n",
       "      <td>None</td>\n",
       "      <td>None</td>\n",
       "    </tr>\n",
       "    <tr>\n",
       "      <th>C4</th>\n",
       "      <td>YY1</td>\n",
       "      <td>CRIP1</td>\n",
       "      <td>DUSP2</td>\n",
       "      <td>RAC2</td>\n",
       "      <td>KRAS</td>\n",
       "      <td>PABPC1</td>\n",
       "      <td>CD274</td>\n",
       "      <td>METAP1D</td>\n",
       "      <td>TET2</td>\n",
       "      <td>SESN3</td>\n",
       "    </tr>\n",
       "    <tr>\n",
       "      <th>C5</th>\n",
       "      <td>PIM2</td>\n",
       "      <td>OSBPL10</td>\n",
       "      <td>ATP2A2</td>\n",
       "      <td>IRF2BP2</td>\n",
       "      <td>X18Q22.2.AMP</td>\n",
       "      <td>IRF4</td>\n",
       "      <td>None</td>\n",
       "      <td>None</td>\n",
       "      <td>None</td>\n",
       "      <td>None</td>\n",
       "    </tr>\n",
       "  </tbody>\n",
       "</table>\n",
       "</div>"
      ],
      "text/plain": [
       "         0        1        2        3             4       5      6        7  \\\n",
       "C1    FADD     SMG7  TUBGCP5    BCL7A        CCDC27   TNIP1  CXCR4     None   \n",
       "C2  ZNF423     None     None     None          None    None   None     None   \n",
       "C3   SOCS1    MEF2C     None     None          None    None   None     None   \n",
       "C4     YY1    CRIP1    DUSP2     RAC2          KRAS  PABPC1  CD274  METAP1D   \n",
       "C5    PIM2  OSBPL10   ATP2A2  IRF2BP2  X18Q22.2.AMP    IRF4   None     None   \n",
       "\n",
       "       8      9  \n",
       "C1  None   None  \n",
       "C2  None   None  \n",
       "C3  None   None  \n",
       "C4  TET2  SESN3  \n",
       "C5  None   None  "
      ]
     },
     "execution_count": 46,
     "metadata": {},
     "output_type": "execute_result"
    }
   ],
   "source": [
    "new_drivers = pd.DataFrame([new_c1, new_c2, new_c3, new_c4, new_c5])\n",
    "new_drivers.index = ['C1', 'C2', 'C3', 'C4', 'C5']\n",
    "new_drivers"
   ]
  },
  {
   "cell_type": "code",
   "execution_count": null,
   "id": "20b6bfe7",
   "metadata": {},
   "outputs": [],
   "source": []
  }
 ],
 "metadata": {
  "kernelspec": {
   "display_name": "Python 3 (ipykernel)",
   "language": "python",
   "name": "python3"
  },
  "language_info": {
   "codemirror_mode": {
    "name": "ipython",
    "version": 3
   },
   "file_extension": ".py",
   "mimetype": "text/x-python",
   "name": "python",
   "nbconvert_exporter": "python",
   "pygments_lexer": "ipython3",
   "version": "3.7.8"
  }
 },
 "nbformat": 4,
 "nbformat_minor": 5
}
