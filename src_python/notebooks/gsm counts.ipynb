{
 "cells": [
  {
   "cell_type": "code",
   "execution_count": 1,
   "id": "6f178060",
   "metadata": {},
   "outputs": [],
   "source": [
    "import pandas as pd"
   ]
  },
  {
   "cell_type": "code",
   "execution_count": 4,
   "id": "debc0dd0",
   "metadata": {},
   "outputs": [],
   "source": [
    "full_gsm = pd.read_csv('../../data_tables/gsm/DLBCL.699.fullGSM.Sep_23_2022.tsv', sep='\\t', index_col=0)\n",
    "clus_gsm = pd.read_csv('../../data_tables/gsm/DLBCL.699.fullGSM.Sep_23_2022.CLUSTERING.tsv', sep='\\t', index_col=0)"
   ]
  },
  {
   "cell_type": "code",
   "execution_count": 6,
   "id": "0f5fa4f6",
   "metadata": {},
   "outputs": [],
   "source": [
    "clus_dels = clus_gsm.index[clus_gsm.index.str.contains('\\.DEL')]\n",
    "full_dels = full_gsm.index[full_gsm.index.str.contains('\\.DEL$')]"
   ]
  },
  {
   "cell_type": "code",
   "execution_count": 10,
   "id": "6183a39a",
   "metadata": {},
   "outputs": [
    {
     "data": {
      "text/plain": [
       "(33, 33)"
      ]
     },
     "execution_count": 10,
     "metadata": {},
     "output_type": "execute_result"
    }
   ],
   "source": [
    "len(full_dels), len(clus_dels)"
   ]
  },
  {
   "cell_type": "code",
   "execution_count": 11,
   "id": "4a3a677d",
   "metadata": {},
   "outputs": [],
   "source": [
    "clus_amps = clus_gsm.index[clus_gsm.index.str.contains('\\.AMP')]\n",
    "full_amps = full_gsm.index[full_gsm.index.str.contains('\\.AMP$')]"
   ]
  },
  {
   "cell_type": "code",
   "execution_count": 12,
   "id": "dd0999f4",
   "metadata": {
    "scrolled": true
   },
   "outputs": [
    {
     "data": {
      "text/plain": [
       "(34, 32)"
      ]
     },
     "execution_count": 12,
     "metadata": {},
     "output_type": "execute_result"
    }
   ],
   "source": [
    "len(full_amps), len(clus_amps)"
   ]
  },
  {
   "cell_type": "code",
   "execution_count": 13,
   "id": "3b94e8c6",
   "metadata": {},
   "outputs": [
    {
     "data": {
      "text/plain": [
       "{'X18Q22.2.AMP', 'X21Q22.3.AMP'}"
      ]
     },
     "execution_count": 13,
     "metadata": {},
     "output_type": "execute_result"
    }
   ],
   "source": [
    "set(full_amps) - set(clus_amps)"
   ]
  },
  {
   "cell_type": "code",
   "execution_count": 16,
   "id": "31f83194",
   "metadata": {},
   "outputs": [
    {
     "data": {
      "text/plain": [
       "3"
      ]
     },
     "execution_count": 16,
     "metadata": {},
     "output_type": "execute_result"
    }
   ],
   "source": [
    "clus_svs = clus_gsm.index[clus_gsm.index.str.contains('SV\\.')]\n",
    "len(clus_svs)"
   ]
  },
  {
   "cell_type": "code",
   "execution_count": 17,
   "id": "77ae2eba",
   "metadata": {},
   "outputs": [
    {
     "data": {
      "text/plain": [
       "82"
      ]
     },
     "execution_count": 17,
     "metadata": {},
     "output_type": "execute_result"
    }
   ],
   "source": [
    "150 - (len(clus_svs) + len(clus_amps) + len(clus_dels))"
   ]
  },
  {
   "cell_type": "code",
   "execution_count": 14,
   "id": "54a3ecce",
   "metadata": {},
   "outputs": [
    {
     "data": {
      "text/plain": [
       "Index(['X1Q.AMP', 'X3P.AMP', 'X3Q.AMP', 'X5P.AMP', 'X5Q.AMP', 'X6P.AMP',\n",
       "       'X7P.AMP', 'X7Q.AMP', 'X9Q.AMP', 'X11P.AMP', 'X11Q.AMP', 'X12P.AMP',\n",
       "       'X12Q.AMP', 'X13Q.AMP', 'X18P.AMP', 'X18Q.AMP', 'X19Q.AMP', 'X21Q.AMP',\n",
       "       'X1Q23.3.AMP', 'X1Q32.1.AMP', 'X2P16.1.AMP', 'X3Q28.AMP', 'X6P21.1.AMP',\n",
       "       'X7Q22.1.AMP', 'X8Q24.22.AMP', 'X9P24.1.AMP', 'X11Q23.3.AMP',\n",
       "       'X12P12.1.AMP', 'X13Q31.3.AMP', 'X17Q24.3.AMP', 'X18Q21.32.AMP',\n",
       "       'X19Q13.42.AMP'],\n",
       "      dtype='object', name='gene')"
      ]
     },
     "execution_count": 14,
     "metadata": {},
     "output_type": "execute_result"
    }
   ],
   "source": [
    "clus_amps"
   ]
  }
 ],
 "metadata": {
  "kernelspec": {
   "display_name": "Python 3 (ipykernel)",
   "language": "python",
   "name": "python3"
  },
  "language_info": {
   "codemirror_mode": {
    "name": "ipython",
    "version": 3
   },
   "file_extension": ".py",
   "mimetype": "text/x-python",
   "name": "python",
   "nbconvert_exporter": "python",
   "pygments_lexer": "ipython3",
   "version": "3.7.8"
  }
 },
 "nbformat": 4,
 "nbformat_minor": 5
}
