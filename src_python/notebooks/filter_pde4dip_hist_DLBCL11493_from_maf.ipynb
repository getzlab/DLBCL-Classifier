{
 "cells": [
  {
   "cell_type": "code",
   "execution_count": 2,
   "id": "be4b2fde",
   "metadata": {},
   "outputs": [],
   "source": [
    "import pandas as pd"
   ]
  },
  {
   "cell_type": "code",
   "execution_count": 3,
   "id": "144c240e",
   "metadata": {},
   "outputs": [],
   "source": [
    "combined_maf = pd.read_csv('../../data_tables/maf_files/DLBCL_combined_700.hg38B.maf', \n",
    "                           sep='\\t', low_memory=False)"
   ]
  },
  {
   "cell_type": "code",
   "execution_count": 4,
   "id": "f13be146",
   "metadata": {},
   "outputs": [
    {
     "data": {
      "text/plain": [
       "((203700, 886), 700)"
      ]
     },
     "execution_count": 4,
     "metadata": {},
     "output_type": "execute_result"
    }
   ],
   "source": [
    "combined_maf.shape, len(set(combined_maf['Tumor_Sample_Barcode']))"
   ]
  },
  {
   "cell_type": "code",
   "execution_count": 5,
   "id": "49b0eb3d",
   "metadata": {},
   "outputs": [
    {
     "data": {
      "text/plain": [
       "(202946, 886)"
      ]
     },
     "execution_count": 5,
     "metadata": {},
     "output_type": "execute_result"
    }
   ],
   "source": [
    "combined_maf = combined_maf.loc[(combined_maf['Hugo_Symbol'] != 'PDE4DIP') &\n",
    "                                (combined_maf['Hugo_Symbol'] != 'HIST1H2BK') &\n",
    "                                (combined_maf['Hugo_Symbol'] != 'HIST2H2BE')]\n",
    "combined_maf = combined_maf.loc[combined_maf['Tumor_Sample_Barcode'] != 'DLBCL11493']\n",
    "combined_maf.shape"
   ]
  },
  {
   "cell_type": "code",
   "execution_count": 6,
   "id": "f706d267",
   "metadata": {},
   "outputs": [
    {
     "data": {
      "text/plain": [
       "699"
      ]
     },
     "execution_count": 6,
     "metadata": {},
     "output_type": "execute_result"
    }
   ],
   "source": [
    "len(set(combined_maf['Tumor_Sample_Barcode']))"
   ]
  },
  {
   "cell_type": "code",
   "execution_count": 11,
   "id": "1115a609",
   "metadata": {},
   "outputs": [],
   "source": [
    "combined_maf.to_csv('../../data_tables/maf_files/DLBCL_combined_699.hg38B.noPDE4DIP.noHISTartifacts.maf',\n",
    "                   sep='\\t', index=False)"
   ]
  },
  {
   "cell_type": "code",
   "execution_count": 12,
   "id": "d97a38c7",
   "metadata": {},
   "outputs": [
    {
     "data": {
      "text/plain": [
       "Index(['DLBCL11574', 'DLBC_FF_8046_TP_NB', 'DLBCL10848', 'DLBCL10515',\n",
       "       'DLBCL11484', 'DLBCL_RICOVER_866', 'DLBCL_C_D_1109_NULLPAIR',\n",
       "       'DLBCL11346', 'DLBCL11581', 'DLBCL10957',\n",
       "       ...\n",
       "       'DLBCL_RICOVER_956', 'DLBCL10895', 'DLBCL10935', 'DLBCL11511',\n",
       "       'DLBCL_RICOVER_1061', 'DLBCL10509', 'DLBCL10983', 'DLBCL10877',\n",
       "       'DLBCL_RICOVER_111', 'DLBCL11476'],\n",
       "      dtype='object', name=0, length=550)"
      ]
     },
     "execution_count": 12,
     "metadata": {},
     "output_type": "execute_result"
    }
   ],
   "source": [
    "training_set = pd.read_csv('../../data_tables/train_test_sets/TrainingSet_550Subset_May2021.txt', sep='\\t',\n",
    "                          index_col=0, header=None).index\n",
    "training_set"
   ]
  },
  {
   "cell_type": "code",
   "execution_count": 14,
   "id": "6b6f39d7",
   "metadata": {},
   "outputs": [
    {
     "data": {
      "text/plain": [
       "550"
      ]
     },
     "execution_count": 14,
     "metadata": {},
     "output_type": "execute_result"
    }
   ],
   "source": [
    "combined_maf_train = combined_maf.loc[combined_maf['Tumor_Sample_Barcode'].isin(training_set)]\n",
    "len(set(combined_maf_train['Tumor_Sample_Barcode']))"
   ]
  },
  {
   "cell_type": "code",
   "execution_count": 16,
   "id": "af869952",
   "metadata": {},
   "outputs": [],
   "source": [
    "combined_maf_train.to_csv('../../data_tables/maf_files/DLBCL_combined_training550.hg38B.noPDE4DIP.noHISTartifacts.maf',\n",
    "                         sep='\\t', index=False)"
   ]
  }
 ],
 "metadata": {
  "kernelspec": {
   "display_name": "Python 3 (ipykernel)",
   "language": "python",
   "name": "python3"
  },
  "language_info": {
   "codemirror_mode": {
    "name": "ipython",
    "version": 3
   },
   "file_extension": ".py",
   "mimetype": "text/x-python",
   "name": "python",
   "nbconvert_exporter": "python",
   "pygments_lexer": "ipython3",
   "version": "3.7.8"
  }
 },
 "nbformat": 4,
 "nbformat_minor": 5
}
