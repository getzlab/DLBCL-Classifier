{
 "cells": [
  {
   "cell_type": "code",
   "execution_count": 1,
   "id": "be4b2fde",
   "metadata": {},
   "outputs": [],
   "source": [
    "import pandas as pd"
   ]
  },
  {
   "cell_type": "code",
   "execution_count": 2,
   "id": "144c240e",
   "metadata": {},
   "outputs": [],
   "source": [
    "combined_maf = pd.read_csv('../../data_tables/maf_files/DLBCL_combined_700.hg38B.maf', \n",
    "                           sep='\\t', low_memory=False)"
   ]
  },
  {
   "cell_type": "code",
   "execution_count": 4,
   "id": "f13be146",
   "metadata": {},
   "outputs": [
    {
     "data": {
      "text/plain": [
       "((203700, 886), 700)"
      ]
     },
     "execution_count": 4,
     "metadata": {},
     "output_type": "execute_result"
    }
   ],
   "source": [
    "combined_maf.shape, len(set(combined_maf['Tumor_Sample_Barcode']))"
   ]
  },
  {
   "cell_type": "code",
   "execution_count": 5,
   "id": "49b0eb3d",
   "metadata": {},
   "outputs": [
    {
     "data": {
      "text/plain": [
       "(202946, 886)"
      ]
     },
     "execution_count": 5,
     "metadata": {},
     "output_type": "execute_result"
    }
   ],
   "source": [
    "combined_maf = combined_maf.loc[(combined_maf['Hugo_Symbol'] != 'PDE4DIP') &\n",
    "                                (combined_maf['Hugo_Symbol'] != 'HIST1H2BK') &\n",
    "                                (combined_maf['Hugo_Symbol'] != 'HIST2H2BE')]\n",
    "combined_maf = combined_maf.loc[combined_maf['Tumor_Sample_Barcode'] != 'DLBCL11493']\n",
    "combined_maf.shape"
   ]
  },
  {
   "cell_type": "code",
   "execution_count": 6,
   "id": "f706d267",
   "metadata": {},
   "outputs": [
    {
     "data": {
      "text/plain": [
       "699"
      ]
     },
     "execution_count": 6,
     "metadata": {},
     "output_type": "execute_result"
    }
   ],
   "source": [
    "len(set(combined_maf['Tumor_Sample_Barcode']))"
   ]
  },
  {
   "cell_type": "code",
   "execution_count": 8,
   "id": "1115a609",
   "metadata": {},
   "outputs": [],
   "source": [
    "# combined_maf.to_csv('../../data_tables/maf_files/DLBCL_combined_699.hg38B.noPDE4DIP.noHISTartifacts.maf',\n",
    "#                    sep='\\t', index=False)\n",
    "combined_maf.to_csv('../../data_tables/maf_files/test.maf',\n",
    "                   sep='\\t', index=False)"
   ]
  },
  {
   "cell_type": "code",
   "execution_count": 9,
   "id": "c6e2c3ed",
   "metadata": {},
   "outputs": [
    {
     "name": "stderr",
     "output_type": "stream",
     "text": [
      "/Library/Frameworks/Python.framework/Versions/3.7/lib/python3.7/site-packages/IPython/core/interactiveshell.py:3457: DtypeWarning: Columns (3,4,17,18,23,24,25,26,27,28,29,30,31,32,33,34,35,36,37,38,40,41,42,43,44,45,46,47,49,51,55,56,57,58,59,60,62,63,65,66,67,68,69,71,72,73,74,76,78,79,80,81,82,83,84,85,86,87,88,89,90,93,94,95,96,98,99,100,101,103,107,108,111,113,114,115,117,118,121,122,123,124,125,126,127,128,130,131,133,135,136,137,138,140,141,143,144,145,146,147,149,150,151,153,155,156,158,159,160,161,163,164,165,166,168,170,171,172,174,175,176,177,178,179,180,181,186,187,188,191,192,195,196,197,198,200,203,205,206,207,208,209,211,213,215,216,217,220,221,222,224,227,228,230,231,232,233,234,235,236,237,238,239,240,241,242,244,246,247,248,249,250,251,254,255,258,260,261,262,263,264,265,266,267,268,269,270,271,272,273,274,275,276,279,280,281,282,283,284,285,288,289,290,291,292,293,294,295,296,297,298,299,301,304,305,307,308,309,310,314,315,316,317,318,319,320,321,322,324,325,326,327,328,329,332,334,335,336,337,338,339,340,341,342,345,346,348,351,354,355,356,359,360,363,364,366,367,368,369,371,372,373,375,377,378,379,380,381,383,385,387,391,392,405,418,426,427,428,429,430,431,432,433,434,435,436,439,440,445,448,449,450,453,454,457,458,460,461,462,463,465,466,467,469,471,472,473,474,475,477,479,481,485,486,502,590,615,616,617,619,620,621,622,623,624,625,626,627,628,629,630,632,633,634,635,636,637,638,640,641,642,643,644,645,647,648,649,650,651,653,654,655,656,657,658,659,660,661,662,663,667,668,669,670,671,673,674,675,676,677,679,681,682,683,684,685,686,687,689,690,691,692,693,694,695,696,697,700,701,703,705,706,708,709,710,711,712,713,714,715,716,717,718,719,720,721,723,725,726,727,728,730,731,732,733,734,735,736,737,738,740,741,743,744,747,749,750,752,753,754,755,756,758,759,761,763,766,767,768,770,771,772,774,776,777,778,780,782,784,785,786,787,788,790,794,797,800,801,802,803,804,821,823,824,825,826,827,828,829,830,832,833,835,836,838,842,843,847,848,849,850,851,852,853,854,855,856,857,858,859,860,861,862,864,865,866,867,868,869,871,872,873,875,876,877,878,879,880,881,882) have mixed types.Specify dtype option on import or set low_memory=False.\n",
      "  exec(code_obj, self.user_global_ns, self.user_ns)\n"
     ]
    },
    {
     "data": {
      "text/html": [
       "<div>\n",
       "<style scoped>\n",
       "    .dataframe tbody tr th:only-of-type {\n",
       "        vertical-align: middle;\n",
       "    }\n",
       "\n",
       "    .dataframe tbody tr th {\n",
       "        vertical-align: top;\n",
       "    }\n",
       "\n",
       "    .dataframe thead th {\n",
       "        text-align: right;\n",
       "    }\n",
       "</style>\n",
       "<table border=\"1\" class=\"dataframe\">\n",
       "  <thead>\n",
       "    <tr style=\"text-align: right;\">\n",
       "      <th></th>\n",
       "      <th>Hugo_Symbol</th>\n",
       "      <th>Entrez_Gene_Id</th>\n",
       "      <th>Center</th>\n",
       "      <th>NCBI_Build</th>\n",
       "      <th>Chromosome</th>\n",
       "      <th>Start_position</th>\n",
       "      <th>End_position</th>\n",
       "      <th>Strand</th>\n",
       "      <th>Variant_Classification</th>\n",
       "      <th>Variant_Type</th>\n",
       "      <th>...</th>\n",
       "      <th>HGNC_UniProt ID(supplied by UniProt)</th>\n",
       "      <th>HGNC_VEGA IDs</th>\n",
       "      <th>dbNSFP_GERP++_NR</th>\n",
       "      <th>dbNSFP_GERP++_RS</th>\n",
       "      <th>dbNSFP_GERP++_RS_rankscore</th>\n",
       "      <th>dbNSFP_fold-degenerate</th>\n",
       "      <th>dbNSFP_hg18_pos(1-coor)</th>\n",
       "      <th>i_CGC_GeneID</th>\n",
       "      <th>i_COSMIC_n_overlapping_mutations</th>\n",
       "      <th>pon_loglike</th>\n",
       "    </tr>\n",
       "  </thead>\n",
       "  <tbody>\n",
       "    <tr>\n",
       "      <th>0</th>\n",
       "      <td>CBFA2T2</td>\n",
       "      <td>9139</td>\n",
       "      <td>broad.mit.edu</td>\n",
       "      <td>37</td>\n",
       "      <td>20</td>\n",
       "      <td>32232306</td>\n",
       "      <td>32232306</td>\n",
       "      <td>+</td>\n",
       "      <td>Missense_Mutation</td>\n",
       "      <td>SNP</td>\n",
       "      <td>...</td>\n",
       "      <td>NaN</td>\n",
       "      <td>NaN</td>\n",
       "      <td>NaN</td>\n",
       "      <td>NaN</td>\n",
       "      <td>NaN</td>\n",
       "      <td>NaN</td>\n",
       "      <td>NaN</td>\n",
       "      <td>NaN</td>\n",
       "      <td>NaN</td>\n",
       "      <td>NaN</td>\n",
       "    </tr>\n",
       "    <tr>\n",
       "      <th>1</th>\n",
       "      <td>MICU2</td>\n",
       "      <td>221154</td>\n",
       "      <td>broad.mit.edu</td>\n",
       "      <td>37</td>\n",
       "      <td>13</td>\n",
       "      <td>22069394</td>\n",
       "      <td>22069394</td>\n",
       "      <td>+</td>\n",
       "      <td>Missense_Mutation</td>\n",
       "      <td>SNP</td>\n",
       "      <td>...</td>\n",
       "      <td>NaN</td>\n",
       "      <td>NaN</td>\n",
       "      <td>NaN</td>\n",
       "      <td>NaN</td>\n",
       "      <td>NaN</td>\n",
       "      <td>NaN</td>\n",
       "      <td>NaN</td>\n",
       "      <td>NaN</td>\n",
       "      <td>NaN</td>\n",
       "      <td>NaN</td>\n",
       "    </tr>\n",
       "    <tr>\n",
       "      <th>2</th>\n",
       "      <td>UGT2B11</td>\n",
       "      <td>10720</td>\n",
       "      <td>broad.mit.edu</td>\n",
       "      <td>37</td>\n",
       "      <td>4</td>\n",
       "      <td>70079916</td>\n",
       "      <td>70079916</td>\n",
       "      <td>+</td>\n",
       "      <td>Silent</td>\n",
       "      <td>SNP</td>\n",
       "      <td>...</td>\n",
       "      <td>NaN</td>\n",
       "      <td>NaN</td>\n",
       "      <td>NaN</td>\n",
       "      <td>NaN</td>\n",
       "      <td>NaN</td>\n",
       "      <td>NaN</td>\n",
       "      <td>NaN</td>\n",
       "      <td>NaN</td>\n",
       "      <td>NaN</td>\n",
       "      <td>NaN</td>\n",
       "    </tr>\n",
       "    <tr>\n",
       "      <th>3</th>\n",
       "      <td>ODC1</td>\n",
       "      <td>4953</td>\n",
       "      <td>broad.mit.edu</td>\n",
       "      <td>37</td>\n",
       "      <td>2</td>\n",
       "      <td>10583919</td>\n",
       "      <td>10583919</td>\n",
       "      <td>+</td>\n",
       "      <td>Missense_Mutation</td>\n",
       "      <td>SNP</td>\n",
       "      <td>...</td>\n",
       "      <td>NaN</td>\n",
       "      <td>NaN</td>\n",
       "      <td>NaN</td>\n",
       "      <td>NaN</td>\n",
       "      <td>NaN</td>\n",
       "      <td>NaN</td>\n",
       "      <td>NaN</td>\n",
       "      <td>NaN</td>\n",
       "      <td>NaN</td>\n",
       "      <td>NaN</td>\n",
       "    </tr>\n",
       "    <tr>\n",
       "      <th>4</th>\n",
       "      <td>LIN28B</td>\n",
       "      <td>389421</td>\n",
       "      <td>broad.mit.edu</td>\n",
       "      <td>37</td>\n",
       "      <td>6</td>\n",
       "      <td>105406020</td>\n",
       "      <td>105406020</td>\n",
       "      <td>+</td>\n",
       "      <td>Silent</td>\n",
       "      <td>SNP</td>\n",
       "      <td>...</td>\n",
       "      <td>NaN</td>\n",
       "      <td>NaN</td>\n",
       "      <td>NaN</td>\n",
       "      <td>NaN</td>\n",
       "      <td>NaN</td>\n",
       "      <td>NaN</td>\n",
       "      <td>NaN</td>\n",
       "      <td>NaN</td>\n",
       "      <td>NaN</td>\n",
       "      <td>NaN</td>\n",
       "    </tr>\n",
       "  </tbody>\n",
       "</table>\n",
       "<p>5 rows × 886 columns</p>\n",
       "</div>"
      ],
      "text/plain": [
       "  Hugo_Symbol  Entrez_Gene_Id         Center NCBI_Build Chromosome  \\\n",
       "0     CBFA2T2            9139  broad.mit.edu         37         20   \n",
       "1       MICU2          221154  broad.mit.edu         37         13   \n",
       "2     UGT2B11           10720  broad.mit.edu         37          4   \n",
       "3        ODC1            4953  broad.mit.edu         37          2   \n",
       "4      LIN28B          389421  broad.mit.edu         37          6   \n",
       "\n",
       "   Start_position  End_position Strand Variant_Classification Variant_Type  \\\n",
       "0        32232306      32232306      +      Missense_Mutation          SNP   \n",
       "1        22069394      22069394      +      Missense_Mutation          SNP   \n",
       "2        70079916      70079916      +                 Silent          SNP   \n",
       "3        10583919      10583919      +      Missense_Mutation          SNP   \n",
       "4       105406020     105406020      +                 Silent          SNP   \n",
       "\n",
       "   ... HGNC_UniProt ID(supplied by UniProt) HGNC_VEGA IDs dbNSFP_GERP++_NR  \\\n",
       "0  ...                                  NaN           NaN              NaN   \n",
       "1  ...                                  NaN           NaN              NaN   \n",
       "2  ...                                  NaN           NaN              NaN   \n",
       "3  ...                                  NaN           NaN              NaN   \n",
       "4  ...                                  NaN           NaN              NaN   \n",
       "\n",
       "  dbNSFP_GERP++_RS dbNSFP_GERP++_RS_rankscore dbNSFP_fold-degenerate  \\\n",
       "0              NaN                        NaN                    NaN   \n",
       "1              NaN                        NaN                    NaN   \n",
       "2              NaN                        NaN                    NaN   \n",
       "3              NaN                        NaN                    NaN   \n",
       "4              NaN                        NaN                    NaN   \n",
       "\n",
       "  dbNSFP_hg18_pos(1-coor) i_CGC_GeneID i_COSMIC_n_overlapping_mutations  \\\n",
       "0                     NaN          NaN                              NaN   \n",
       "1                     NaN          NaN                              NaN   \n",
       "2                     NaN          NaN                              NaN   \n",
       "3                     NaN          NaN                              NaN   \n",
       "4                     NaN          NaN                              NaN   \n",
       "\n",
       "  pon_loglike  \n",
       "0         NaN  \n",
       "1         NaN  \n",
       "2         NaN  \n",
       "3         NaN  \n",
       "4         NaN  \n",
       "\n",
       "[5 rows x 886 columns]"
      ]
     },
     "execution_count": 9,
     "metadata": {},
     "output_type": "execute_result"
    }
   ],
   "source": [
    "# read in test maf\n",
    "test_maf = pd.read_csv('../../data_tables/maf_files/test.maf', sep='\\t')\n",
    "test_maf.head()"
   ]
  },
  {
   "cell_type": "code",
   "execution_count": 10,
   "id": "9b35d947",
   "metadata": {},
   "outputs": [
    {
     "data": {
      "text/plain": [
       "0            DFCIDL003_DT\n",
       "1            DFCIDL003_DT\n",
       "2            DFCIDL003_DT\n",
       "3            DFCIDL003_DT\n",
       "4            DFCIDL003_DT\n",
       "               ...       \n",
       "202941    DLBCL_C_D_PAIR9\n",
       "202942    DLBCL_C_D_PAIR9\n",
       "202943    DLBCL_C_D_PAIR9\n",
       "202944    DLBCL_C_D_PAIR9\n",
       "202945    DLBCL_C_D_PAIR9\n",
       "Name: Tumor_Sample_Barcode, Length: 202946, dtype: object"
      ]
     },
     "execution_count": 10,
     "metadata": {},
     "output_type": "execute_result"
    }
   ],
   "source": [
    "test_maf['Tumor_Sample_Barcode']"
   ]
  },
  {
   "cell_type": "code",
   "execution_count": 12,
   "id": "d97a38c7",
   "metadata": {},
   "outputs": [
    {
     "data": {
      "text/plain": [
       "Index(['DLBCL11574', 'DLBC_FF_8046_TP_NB', 'DLBCL10848', 'DLBCL10515',\n",
       "       'DLBCL11484', 'DLBCL_RICOVER_866', 'DLBCL_C_D_1109_NULLPAIR',\n",
       "       'DLBCL11346', 'DLBCL11581', 'DLBCL10957',\n",
       "       ...\n",
       "       'DLBCL_RICOVER_956', 'DLBCL10895', 'DLBCL10935', 'DLBCL11511',\n",
       "       'DLBCL_RICOVER_1061', 'DLBCL10509', 'DLBCL10983', 'DLBCL10877',\n",
       "       'DLBCL_RICOVER_111', 'DLBCL11476'],\n",
       "      dtype='object', name=0, length=550)"
      ]
     },
     "execution_count": 12,
     "metadata": {},
     "output_type": "execute_result"
    }
   ],
   "source": [
    "training_set = pd.read_csv('../../data_tables/train_test_sets/TrainingSet_550Subset_May2021.txt', sep='\\t',\n",
    "                          index_col=0, header=None).index\n",
    "training_set"
   ]
  },
  {
   "cell_type": "code",
   "execution_count": 14,
   "id": "6b6f39d7",
   "metadata": {},
   "outputs": [
    {
     "data": {
      "text/plain": [
       "550"
      ]
     },
     "execution_count": 14,
     "metadata": {},
     "output_type": "execute_result"
    }
   ],
   "source": [
    "combined_maf_train = combined_maf.loc[combined_maf['Tumor_Sample_Barcode'].isin(training_set)]\n",
    "len(set(combined_maf_train['Tumor_Sample_Barcode']))"
   ]
  },
  {
   "cell_type": "code",
   "execution_count": 16,
   "id": "af869952",
   "metadata": {},
   "outputs": [],
   "source": [
    "combined_maf_train.to_csv('../../data_tables/maf_files/DLBCL_combined_training550.hg38B.noPDE4DIP.noHISTartifacts.maf',\n",
    "                         sep='\\t', index=False)"
   ]
  }
 ],
 "metadata": {
  "kernelspec": {
   "display_name": "Python 3 (ipykernel)",
   "language": "python",
   "name": "python3"
  },
  "language_info": {
   "codemirror_mode": {
    "name": "ipython",
    "version": 3
   },
   "file_extension": ".py",
   "mimetype": "text/x-python",
   "name": "python",
   "nbconvert_exporter": "python",
   "pygments_lexer": "ipython3",
   "version": "3.7.8"
  }
 },
 "nbformat": 4,
 "nbformat_minor": 5
}
