{
 "cells": [
  {
   "cell_type": "code",
   "execution_count": 1,
   "id": "b3683e49",
   "metadata": {},
   "outputs": [],
   "source": [
    "import pandas as pd"
   ]
  },
  {
   "cell_type": "code",
   "execution_count": 6,
   "id": "312ea0ab",
   "metadata": {},
   "outputs": [
    {
     "data": {
      "text/plain": [
       "Index(['DFCIDL001_DT', 'DFCIDL010_DT', 'DLBCL_RICOVER_290',\n",
       "       'DLBCL_RICOVER_451', 'DLBCL_RICOVER_473', 'DLBCL_RICOVER_694',\n",
       "       'DLBCL_RICOVER_826', 'DLBCL_RICOVER_829', 'DLBCL_RICOVER_865',\n",
       "       'DLBCL_RICOVER_945',\n",
       "       ...\n",
       "       'DLBCL_RICOVER_1192', 'DLBCL_RICOVER_1106', 'DLBCL_RICOVER_1190',\n",
       "       'DLBCL_MC_F990_MNA', 'DLBCL_C_D_PAIR2', 'DLBCL_C_D_PAIR20',\n",
       "       'DLBCL_C_D_PAIR22', 'DLBCL_C_D_PAIR23', 'DLBCL_C_D_PAIR5',\n",
       "       'DLBCL_C_D_PAIR9'],\n",
       "      dtype='object', name='SampleName', length=277)"
      ]
     },
     "execution_count": 6,
     "metadata": {},
     "output_type": "execute_result"
    }
   ],
   "source": [
    "shipp_set = pd.read_csv('../../data_tables/sample_sets/ShippStaudtSets.purity0.2.txt', sep='\\t', index_col=0)\n",
    "shipp_set = shipp_set.loc[shipp_set['cohort'] == 'Shipp'].index\n",
    "shipp_set"
   ]
  },
  {
   "cell_type": "code",
   "execution_count": 2,
   "id": "4af0b2c8",
   "metadata": {},
   "outputs": [
    {
     "data": {
      "text/html": [
       "<div>\n",
       "<style scoped>\n",
       "    .dataframe tbody tr th:only-of-type {\n",
       "        vertical-align: middle;\n",
       "    }\n",
       "\n",
       "    .dataframe tbody tr th {\n",
       "        vertical-align: top;\n",
       "    }\n",
       "\n",
       "    .dataframe thead th {\n",
       "        text-align: right;\n",
       "    }\n",
       "</style>\n",
       "<table border=\"1\" class=\"dataframe\">\n",
       "  <thead>\n",
       "    <tr style=\"text-align: right;\">\n",
       "      <th></th>\n",
       "      <th>clean_bam_file_capture</th>\n",
       "      <th>sample_bam_capture</th>\n",
       "    </tr>\n",
       "    <tr>\n",
       "      <th>entity:sample_id</th>\n",
       "      <th></th>\n",
       "      <th></th>\n",
       "    </tr>\n",
       "  </thead>\n",
       "  <tbody>\n",
       "    <tr>\n",
       "      <th>BL-2_L_156270</th>\n",
       "      <td>gs://fc-39527e4b-99a9-4110-8022-a2778ef3c63a/x...</td>\n",
       "      <td>BL-2</td>\n",
       "    </tr>\n",
       "    <tr>\n",
       "      <th>BL-2_L_156270-NULL</th>\n",
       "      <td>gs://fc-39527e4b-99a9-4110-8022-a2778ef3c63a/x...</td>\n",
       "      <td>CEPH1328</td>\n",
       "    </tr>\n",
       "    <tr>\n",
       "      <th>BL-41_L_156263</th>\n",
       "      <td>gs://fc-39527e4b-99a9-4110-8022-a2778ef3c63a/x...</td>\n",
       "      <td>BL-41</td>\n",
       "    </tr>\n",
       "    <tr>\n",
       "      <th>BL-41_L_156263-NULL</th>\n",
       "      <td>gs://fc-39527e4b-99a9-4110-8022-a2778ef3c63a/x...</td>\n",
       "      <td>CEPH1328</td>\n",
       "    </tr>\n",
       "    <tr>\n",
       "      <th>Balm3_L_156272</th>\n",
       "      <td>gs://fc-39527e4b-99a9-4110-8022-a2778ef3c63a/x...</td>\n",
       "      <td>Balm3</td>\n",
       "    </tr>\n",
       "  </tbody>\n",
       "</table>\n",
       "</div>"
      ],
      "text/plain": [
       "                                                clean_bam_file_capture  \\\n",
       "entity:sample_id                                                         \n",
       "BL-2_L_156270        gs://fc-39527e4b-99a9-4110-8022-a2778ef3c63a/x...   \n",
       "BL-2_L_156270-NULL   gs://fc-39527e4b-99a9-4110-8022-a2778ef3c63a/x...   \n",
       "BL-41_L_156263       gs://fc-39527e4b-99a9-4110-8022-a2778ef3c63a/x...   \n",
       "BL-41_L_156263-NULL  gs://fc-39527e4b-99a9-4110-8022-a2778ef3c63a/x...   \n",
       "Balm3_L_156272       gs://fc-39527e4b-99a9-4110-8022-a2778ef3c63a/x...   \n",
       "\n",
       "                    sample_bam_capture  \n",
       "entity:sample_id                        \n",
       "BL-2_L_156270                     BL-2  \n",
       "BL-2_L_156270-NULL            CEPH1328  \n",
       "BL-41_L_156263                   BL-41  \n",
       "BL-41_L_156263-NULL           CEPH1328  \n",
       "Balm3_L_156272                   Balm3  "
      ]
     },
     "execution_count": 2,
     "metadata": {},
     "output_type": "execute_result"
    }
   ],
   "source": [
    "shipp_meta = pd.read_csv('shipp_samples_meta.tsv', sep='\\t', index_col=0)\n",
    "shipp_meta.index = shipp_meta.index.str.replace('-', '_')\n",
    "shipp_meta.head()"
   ]
  },
  {
   "cell_type": "code",
   "execution_count": null,
   "id": "c1c4fa91",
   "metadata": {},
   "outputs": [],
   "source": []
  }
 ],
 "metadata": {
  "kernelspec": {
   "display_name": "Python 3 (ipykernel)",
   "language": "python",
   "name": "python3"
  },
  "language_info": {
   "codemirror_mode": {
    "name": "ipython",
    "version": 3
   },
   "file_extension": ".py",
   "mimetype": "text/x-python",
   "name": "python",
   "nbconvert_exporter": "python",
   "pygments_lexer": "ipython3",
   "version": "3.7.8"
  }
 },
 "nbformat": 4,
 "nbformat_minor": 5
}
