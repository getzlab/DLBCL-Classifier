{
 "cells": [
  {
   "cell_type": "code",
   "execution_count": 1,
   "id": "9d626a5a",
   "metadata": {},
   "outputs": [],
   "source": [
    "import pandas as pd"
   ]
  },
  {
   "cell_type": "code",
   "execution_count": 2,
   "id": "2ca90635",
   "metadata": {},
   "outputs": [],
   "source": [
    "qval_df = pd.read_csv('../../data_tables/qval_dfs/fisher_exact_5x2.Sep_23_2022.combined.tsv', sep='\\t', index_col=0)"
   ]
  },
  {
   "cell_type": "code",
   "execution_count": 3,
   "id": "1bae23c4",
   "metadata": {},
   "outputs": [],
   "source": [
    "c1_drivers = qval_df.loc[(qval_df['cluster'] == 'C1') & (qval_df['q'] <= 0.10)].index\n",
    "c2_drivers = qval_df.loc[(qval_df['cluster'] == 'C2') & (qval_df['q'] <= 0.10)].index\n",
    "c3_drivers = qval_df.loc[(qval_df['cluster'] == 'C3') & (qval_df['q'] <= 0.10)].index\n",
    "c4_drivers = qval_df.loc[(qval_df['cluster'] == 'C4') & (qval_df['q'] <= 0.10)].index\n",
    "c5_drivers = qval_df.loc[(qval_df['cluster'] == 'C5') & (qval_df['q'] <= 0.10)].index"
   ]
  },
  {
   "cell_type": "code",
   "execution_count": 12,
   "id": "15ff662b",
   "metadata": {},
   "outputs": [],
   "source": [
    "nm_gsm = pd.read_csv('../../data_tables/NM_supp_cnmf/a) Gene sample matrix-Table 1.tsv', sep='\\t', index_col=0, skiprows=1)\n",
    "nm_gsm.index = nm_gsm.index.str.replace(':', '.').str.replace('-', '.').str.upper()\n",
    "nm_gsm.index = ['X' + x if '.AMP' in x or '.DEL' in x else x for x in nm_gsm.index]\n",
    "nm_gsm.index = [x if x != 'X18Q21.33(BCL2).AMP' else 'X18Q21.33.AMP' for x in nm_gsm.index]"
   ]
  },
  {
   "cell_type": "code",
   "execution_count": 22,
   "id": "cc74293c",
   "metadata": {},
   "outputs": [
    {
     "name": "stdout",
     "output_type": "stream",
     "text": [
      "X18P.AMP\n",
      "X18Q.AMP\n",
      "X18Q21.33.AMP\n",
      "X18Q23.DEL\n"
     ]
    }
   ],
   "source": [
    "for x in nm_gsm.index:\n",
    "    if '18' in x:\n",
    "        print(x)"
   ]
  },
  {
   "cell_type": "code",
   "execution_count": 15,
   "id": "5592e5f7",
   "metadata": {},
   "outputs": [],
   "source": [
    "# New genes\n",
    "new_c1 = set(c1_drivers) - set(nm_gsm.index)\n",
    "new_c2 = set(c2_drivers) - set(nm_gsm.index)\n",
    "new_c3 = set(c3_drivers) - set(nm_gsm.index)\n",
    "new_c4 = set(c4_drivers) - set(nm_gsm.index)\n",
    "new_c5 = set(c5_drivers) - set(nm_gsm.index)\n",
    "\n",
    "new_c2 = new_c2 - 'X18Q21.32.AMP'"
   ]
  },
  {
   "cell_type": "code",
   "execution_count": 16,
   "id": "d87372b9",
   "metadata": {},
   "outputs": [
    {
     "data": {
      "text/plain": [
       "{'BCL7A', 'CCDC27', 'CXCR4', 'FADD', 'MYD88.OTHER', 'SMG7', 'TNIP1', 'TUBGCP5'}"
      ]
     },
     "execution_count": 16,
     "metadata": {},
     "output_type": "execute_result"
    }
   ],
   "source": [
    "new_c1"
   ]
  },
  {
   "cell_type": "code",
   "execution_count": 17,
   "id": "989e45a2",
   "metadata": {},
   "outputs": [
    {
     "data": {
      "text/plain": [
       "{'X18Q21.32.AMP', 'ZNF423'}"
      ]
     },
     "execution_count": 17,
     "metadata": {},
     "output_type": "execute_result"
    }
   ],
   "source": [
    "new_c2"
   ]
  },
  {
   "cell_type": "code",
   "execution_count": 18,
   "id": "097f489e",
   "metadata": {},
   "outputs": [
    {
     "data": {
      "text/plain": [
       "{'MEF2C', 'SOCS1'}"
      ]
     },
     "execution_count": 18,
     "metadata": {},
     "output_type": "execute_result"
    }
   ],
   "source": [
    "new_c3"
   ]
  },
  {
   "cell_type": "code",
   "execution_count": 19,
   "id": "99e0d489",
   "metadata": {},
   "outputs": [
    {
     "data": {
      "text/plain": [
       "{'CD274',\n",
       " 'CRIP1',\n",
       " 'DUSP2',\n",
       " 'KRAS',\n",
       " 'METAP1D',\n",
       " 'PABPC1',\n",
       " 'RAC2',\n",
       " 'SESN3',\n",
       " 'TET2',\n",
       " 'YY1'}"
      ]
     },
     "execution_count": 19,
     "metadata": {},
     "output_type": "execute_result"
    }
   ],
   "source": [
    "new_c4"
   ]
  },
  {
   "cell_type": "code",
   "execution_count": 20,
   "id": "826dd171",
   "metadata": {},
   "outputs": [
    {
     "data": {
      "text/plain": [
       "{'ATP2A2', 'IRF2BP2', 'IRF4', 'MYD88.L265P', 'OSBPL10', 'PIM2', 'X18Q22.2.AMP'}"
      ]
     },
     "execution_count": 20,
     "metadata": {},
     "output_type": "execute_result"
    }
   ],
   "source": [
    "new_c5"
   ]
  }
 ],
 "metadata": {
  "kernelspec": {
   "display_name": "Python 3 (ipykernel)",
   "language": "python",
   "name": "python3"
  },
  "language_info": {
   "codemirror_mode": {
    "name": "ipython",
    "version": 3
   },
   "file_extension": ".py",
   "mimetype": "text/x-python",
   "name": "python",
   "nbconvert_exporter": "python",
   "pygments_lexer": "ipython3",
   "version": "3.7.8"
  }
 },
 "nbformat": 4,
 "nbformat_minor": 5
}
