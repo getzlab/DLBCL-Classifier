{
 "cells": [
  {
   "cell_type": "code",
   "execution_count": 39,
   "id": "f5032188",
   "metadata": {},
   "outputs": [],
   "source": [
    "import pandas as pd\n",
    "import numpy as np\n",
    "from matplotlib import pyplot as plt\n",
    "import scipy.stats as ss"
   ]
  },
  {
   "cell_type": "code",
   "execution_count": 4,
   "id": "8dca2e3f",
   "metadata": {},
   "outputs": [
    {
     "data": {
      "text/html": [
       "<div>\n",
       "<style scoped>\n",
       "    .dataframe tbody tr th:only-of-type {\n",
       "        vertical-align: middle;\n",
       "    }\n",
       "\n",
       "    .dataframe tbody tr th {\n",
       "        vertical-align: top;\n",
       "    }\n",
       "\n",
       "    .dataframe thead th {\n",
       "        text-align: right;\n",
       "    }\n",
       "</style>\n",
       "<table border=\"1\" class=\"dataframe\">\n",
       "  <thead>\n",
       "    <tr style=\"text-align: right;\">\n",
       "      <th></th>\n",
       "      <th>DLBCL11574</th>\n",
       "      <th>DLBC_FF_8046_TP_NB</th>\n",
       "      <th>DLBCL10848</th>\n",
       "      <th>DLBCL10515</th>\n",
       "      <th>DLBCL11484</th>\n",
       "      <th>DLBCL_RICOVER_866</th>\n",
       "      <th>DLBCL_C_D_1109_NULLPAIR</th>\n",
       "      <th>DLBCL11346</th>\n",
       "      <th>DLBCL11581</th>\n",
       "      <th>DLBCL10957</th>\n",
       "      <th>...</th>\n",
       "      <th>DLBCL11575</th>\n",
       "      <th>DLBCL_C_D_1142_NULLPAIR</th>\n",
       "      <th>DLBCL11562</th>\n",
       "      <th>DLBCL_LS2305</th>\n",
       "      <th>DLBCL_C_D_PAIR2</th>\n",
       "      <th>DLBCL_C_D_PAIR20</th>\n",
       "      <th>DLBCL_C_D_PAIR22</th>\n",
       "      <th>DLBCL_C_D_PAIR23</th>\n",
       "      <th>DLBCL_C_D_PAIR5</th>\n",
       "      <th>DLBCL_C_D_PAIR9</th>\n",
       "    </tr>\n",
       "  </thead>\n",
       "  <tbody>\n",
       "    <tr>\n",
       "      <th>1</th>\n",
       "      <td>5.519618e-18</td>\n",
       "      <td>4.723137e-02</td>\n",
       "      <td>5.532148e-02</td>\n",
       "      <td>1.479323e-01</td>\n",
       "      <td>3.875327e-18</td>\n",
       "      <td>6.232785e-18</td>\n",
       "      <td>1.067881e-01</td>\n",
       "      <td>6.362665e-02</td>\n",
       "      <td>6.419094e-18</td>\n",
       "      <td>0.117387</td>\n",
       "      <td>...</td>\n",
       "      <td>9.964909e-02</td>\n",
       "      <td>1.230673e-17</td>\n",
       "      <td>6.256269e-18</td>\n",
       "      <td>5.627240e-18</td>\n",
       "      <td>6.591065e-02</td>\n",
       "      <td>3.441910e-18</td>\n",
       "      <td>2.364837e-17</td>\n",
       "      <td>1.511874e-01</td>\n",
       "      <td>3.406318e-18</td>\n",
       "      <td>7.345345e-02</td>\n",
       "    </tr>\n",
       "    <tr>\n",
       "      <th>2</th>\n",
       "      <td>1.523472e-17</td>\n",
       "      <td>5.613307e-18</td>\n",
       "      <td>2.916560e-18</td>\n",
       "      <td>5.053783e-02</td>\n",
       "      <td>8.300511e-02</td>\n",
       "      <td>8.216321e-02</td>\n",
       "      <td>5.724676e-18</td>\n",
       "      <td>2.363880e-01</td>\n",
       "      <td>3.317624e-17</td>\n",
       "      <td>0.022506</td>\n",
       "      <td>...</td>\n",
       "      <td>9.928812e-02</td>\n",
       "      <td>7.133292e-02</td>\n",
       "      <td>2.000159e-01</td>\n",
       "      <td>1.013867e-01</td>\n",
       "      <td>9.320747e-02</td>\n",
       "      <td>1.251801e-01</td>\n",
       "      <td>1.095325e-01</td>\n",
       "      <td>1.735769e-01</td>\n",
       "      <td>2.452523e-01</td>\n",
       "      <td>2.237224e-01</td>\n",
       "    </tr>\n",
       "    <tr>\n",
       "      <th>3</th>\n",
       "      <td>2.631948e-02</td>\n",
       "      <td>5.582594e-18</td>\n",
       "      <td>6.217602e-02</td>\n",
       "      <td>7.261846e-02</td>\n",
       "      <td>3.605549e-18</td>\n",
       "      <td>4.172844e-01</td>\n",
       "      <td>1.970256e-01</td>\n",
       "      <td>6.341109e-18</td>\n",
       "      <td>5.986197e-02</td>\n",
       "      <td>0.028523</td>\n",
       "      <td>...</td>\n",
       "      <td>7.445016e-02</td>\n",
       "      <td>5.081527e-02</td>\n",
       "      <td>8.231135e-18</td>\n",
       "      <td>1.966308e-01</td>\n",
       "      <td>3.542675e-18</td>\n",
       "      <td>4.301642e-18</td>\n",
       "      <td>9.677438e-02</td>\n",
       "      <td>1.047926e-17</td>\n",
       "      <td>4.408562e-18</td>\n",
       "      <td>1.511144e-01</td>\n",
       "    </tr>\n",
       "    <tr>\n",
       "      <th>4</th>\n",
       "      <td>2.222710e-17</td>\n",
       "      <td>5.728463e-17</td>\n",
       "      <td>2.064209e-01</td>\n",
       "      <td>4.977043e-02</td>\n",
       "      <td>2.728279e-02</td>\n",
       "      <td>4.711662e-18</td>\n",
       "      <td>2.885493e-17</td>\n",
       "      <td>1.807114e-01</td>\n",
       "      <td>1.845301e-01</td>\n",
       "      <td>0.020843</td>\n",
       "      <td>...</td>\n",
       "      <td>1.037143e-17</td>\n",
       "      <td>5.814387e-02</td>\n",
       "      <td>4.793056e-02</td>\n",
       "      <td>1.774246e-17</td>\n",
       "      <td>4.507471e-02</td>\n",
       "      <td>1.953180e-01</td>\n",
       "      <td>6.715807e-18</td>\n",
       "      <td>1.523188e-01</td>\n",
       "      <td>6.064823e-18</td>\n",
       "      <td>3.077901e-17</td>\n",
       "    </tr>\n",
       "    <tr>\n",
       "      <th>5</th>\n",
       "      <td>1.558661e-02</td>\n",
       "      <td>1.209183e-01</td>\n",
       "      <td>4.452636e-18</td>\n",
       "      <td>4.518701e-17</td>\n",
       "      <td>5.359831e-18</td>\n",
       "      <td>3.821797e-01</td>\n",
       "      <td>4.143367e-18</td>\n",
       "      <td>6.403162e-18</td>\n",
       "      <td>5.438402e-02</td>\n",
       "      <td>0.041377</td>\n",
       "      <td>...</td>\n",
       "      <td>3.116163e-01</td>\n",
       "      <td>3.915989e-18</td>\n",
       "      <td>1.222781e-01</td>\n",
       "      <td>2.874251e-01</td>\n",
       "      <td>7.932532e-18</td>\n",
       "      <td>1.394901e-01</td>\n",
       "      <td>6.851826e-02</td>\n",
       "      <td>3.749437e-18</td>\n",
       "      <td>1.336503e-01</td>\n",
       "      <td>1.403762e-17</td>\n",
       "    </tr>\n",
       "  </tbody>\n",
       "</table>\n",
       "<p>5 rows × 699 columns</p>\n",
       "</div>"
      ],
      "text/plain": [
       "     DLBCL11574  DLBC_FF_8046_TP_NB    DLBCL10848    DLBCL10515    DLBCL11484  \\\n",
       "1  5.519618e-18        4.723137e-02  5.532148e-02  1.479323e-01  3.875327e-18   \n",
       "2  1.523472e-17        5.613307e-18  2.916560e-18  5.053783e-02  8.300511e-02   \n",
       "3  2.631948e-02        5.582594e-18  6.217602e-02  7.261846e-02  3.605549e-18   \n",
       "4  2.222710e-17        5.728463e-17  2.064209e-01  4.977043e-02  2.728279e-02   \n",
       "5  1.558661e-02        1.209183e-01  4.452636e-18  4.518701e-17  5.359831e-18   \n",
       "\n",
       "   DLBCL_RICOVER_866  DLBCL_C_D_1109_NULLPAIR    DLBCL11346    DLBCL11581  \\\n",
       "1       6.232785e-18             1.067881e-01  6.362665e-02  6.419094e-18   \n",
       "2       8.216321e-02             5.724676e-18  2.363880e-01  3.317624e-17   \n",
       "3       4.172844e-01             1.970256e-01  6.341109e-18  5.986197e-02   \n",
       "4       4.711662e-18             2.885493e-17  1.807114e-01  1.845301e-01   \n",
       "5       3.821797e-01             4.143367e-18  6.403162e-18  5.438402e-02   \n",
       "\n",
       "   DLBCL10957  ...    DLBCL11575  DLBCL_C_D_1142_NULLPAIR    DLBCL11562  \\\n",
       "1    0.117387  ...  9.964909e-02             1.230673e-17  6.256269e-18   \n",
       "2    0.022506  ...  9.928812e-02             7.133292e-02  2.000159e-01   \n",
       "3    0.028523  ...  7.445016e-02             5.081527e-02  8.231135e-18   \n",
       "4    0.020843  ...  1.037143e-17             5.814387e-02  4.793056e-02   \n",
       "5    0.041377  ...  3.116163e-01             3.915989e-18  1.222781e-01   \n",
       "\n",
       "   DLBCL_LS2305  DLBCL_C_D_PAIR2  DLBCL_C_D_PAIR20  DLBCL_C_D_PAIR22  \\\n",
       "1  5.627240e-18     6.591065e-02      3.441910e-18      2.364837e-17   \n",
       "2  1.013867e-01     9.320747e-02      1.251801e-01      1.095325e-01   \n",
       "3  1.966308e-01     3.542675e-18      4.301642e-18      9.677438e-02   \n",
       "4  1.774246e-17     4.507471e-02      1.953180e-01      6.715807e-18   \n",
       "5  2.874251e-01     7.932532e-18      1.394901e-01      6.851826e-02   \n",
       "\n",
       "   DLBCL_C_D_PAIR23  DLBCL_C_D_PAIR5  DLBCL_C_D_PAIR9  \n",
       "1      1.511874e-01     3.406318e-18     7.345345e-02  \n",
       "2      1.735769e-01     2.452523e-01     2.237224e-01  \n",
       "3      1.047926e-17     4.408562e-18     1.511144e-01  \n",
       "4      1.523188e-01     6.064823e-18     3.077901e-17  \n",
       "5      3.749437e-18     1.336503e-01     1.403762e-17  \n",
       "\n",
       "[5 rows x 699 columns]"
      ]
     },
     "execution_count": 4,
     "metadata": {},
     "output_type": "execute_result"
    }
   ],
   "source": [
    "w1 = pd.read_csv('../../clustering_runs/full_dir_combined/k5/HMatrices/H.seed12345679', sep='\\t')\n",
    "\n",
    "w1.head()"
   ]
  },
  {
   "cell_type": "code",
   "execution_count": 73,
   "id": "85fcf9ce",
   "metadata": {},
   "outputs": [
    {
     "data": {
      "image/png": "[encoded data removed]",
      "text/plain": [
       "<Figure size 432x288 with 1 Axes>"
      ]
     },
     "metadata": {
      "needs_background": "light"
     },
     "output_type": "display_data"
    }
   ],
   "source": [
    "a, b = 0.7152, 0.4583\n",
    "mean, var, skew, kurt = ss.beta.stats(a, b, moments='mvsk')\n",
    "\n",
    "\n",
    "x = np.linspace(ss.beta.ppf(0.01, a, b),\n",
    "                ss.beta.ppf(0.99, a, b), 100)\n",
    "plt.plot(x, ss.beta.pdf(x, a, b),\n",
    "         'r-', lw=5, alpha=0.6, label='beta pdf')\n",
    "\n",
    "plt.show()"
   ]
  },
  {
   "cell_type": "code",
   "execution_count": 38,
   "id": "33268a10",
   "metadata": {},
   "outputs": [
    {
     "data": {
      "image/png": "[encoded data removed]",
      "text/plain": [
       "<Figure size 720x360 with 1 Axes>"
      ]
     },
     "metadata": {
      "needs_background": "light"
     },
     "output_type": "display_data"
    }
   ],
   "source": [
    "plt.figure(figsize=(10,5))\n",
    "plt.hist(-np.log10(w1.loc[1]), bins=150)\n",
    "plt.show()"
   ]
  },
  {
   "cell_type": "code",
   "execution_count": 69,
   "id": "653a2dd1",
   "metadata": {},
   "outputs": [
    {
     "name": "stderr",
     "output_type": "stream",
     "text": [
      "/Library/Frameworks/Python.framework/Versions/3.7/lib/python3.7/site-packages/scipy/stats/_continuous_distns.py:639: RuntimeWarning: invalid value encountered in sqrt\n",
      "  sk = 2*(b-a)*np.sqrt(a + b + 1) / (a + b + 2) / np.sqrt(a*b)\n",
      "/Library/Frameworks/Python.framework/Versions/3.7/lib/python3.7/site-packages/scipy/optimize/minpack.py:175: RuntimeWarning: The iteration is not making good progress, as measured by the \n",
      "  improvement from the last ten iterations.\n",
      "  warnings.warn(msg, RuntimeWarning)\n"
     ]
    },
    {
     "data": {
      "text/plain": [
       "(0.4583495484636759,\n",
       " 0.7152901782342103,\n",
       " 0.3387939152235823,\n",
       " 17.235863065623704)"
      ]
     },
     "execution_count": 69,
     "metadata": {},
     "output_type": "execute_result"
    }
   ],
   "source": [
    "ss.beta.fit(-np.log10(w1.loc[1]))"
   ]
  },
  {
   "cell_type": "code",
   "execution_count": 29,
   "id": "2e075538",
   "metadata": {},
   "outputs": [
    {
     "data": {
      "image/png": "[encoded data removed]",
      "text/plain": [
       "<Figure size 432x288 with 1 Axes>"
      ]
     },
     "metadata": {
      "needs_background": "light"
     },
     "output_type": "display_data"
    }
   ],
   "source": [
    "plt.scatter(w1.loc[1], w1.loc[2])\n",
    "plt.show()"
   ]
  },
  {
   "cell_type": "code",
   "execution_count": 30,
   "id": "0186dbc7",
   "metadata": {},
   "outputs": [
    {
     "data": {
      "image/png": "[encoded data removed]",
      "text/plain": [
       "<Figure size 432x288 with 1 Axes>"
      ]
     },
     "metadata": {
      "needs_background": "light"
     },
     "output_type": "display_data"
    }
   ],
   "source": [
    "plt.scatter(w1.loc[1], w1.loc[3])\n",
    "plt.show()"
   ]
  },
  {
   "cell_type": "code",
   "execution_count": 31,
   "id": "154637d7",
   "metadata": {},
   "outputs": [
    {
     "data": {
      "image/png": "[encoded data removed]",
      "text/plain": [
       "<Figure size 432x288 with 1 Axes>"
      ]
     },
     "metadata": {
      "needs_background": "light"
     },
     "output_type": "display_data"
    }
   ],
   "source": [
    "plt.scatter(w1.loc[1], w1.loc[4])\n",
    "plt.show()"
   ]
  },
  {
   "cell_type": "code",
   "execution_count": 32,
   "id": "d41de0b0",
   "metadata": {},
   "outputs": [
    {
     "data": {
      "image/png": "[encoded data removed]",
      "text/plain": [
       "<Figure size 432x288 with 1 Axes>"
      ]
     },
     "metadata": {
      "needs_background": "light"
     },
     "output_type": "display_data"
    }
   ],
   "source": [
    "plt.scatter(w1.loc[1], w1.loc[5])\n",
    "plt.show()"
   ]
  },
  {
   "cell_type": "code",
   "execution_count": null,
   "id": "8b0d9251",
   "metadata": {},
   "outputs": [],
   "source": []
  }
 ],
 "metadata": {
  "kernelspec": {
   "display_name": "Python 3 (ipykernel)",
   "language": "python",
   "name": "python3"
  },
  "language_info": {
   "codemirror_mode": {
    "name": "ipython",
    "version": 3
   },
   "file_extension": ".py",
   "mimetype": "text/x-python",
   "name": "python",
   "nbconvert_exporter": "python",
   "pygments_lexer": "ipython3",
   "version": "3.7.8"
  }
 },
 "nbformat": 4,
 "nbformat_minor": 5
}
